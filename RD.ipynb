{
 "cells": [
  {
   "cell_type": "code",
   "execution_count": 1,
   "metadata": {},
   "outputs": [],
   "source": [
    "from dataclasses import dataclass\n",
    "import pandas as pd"
   ]
  },
  {
   "cell_type": "code",
   "execution_count": 2,
   "metadata": {},
   "outputs": [
    {
     "data": {
      "text/html": [
       "<div>\n",
       "<style scoped>\n",
       "    .dataframe tbody tr th:only-of-type {\n",
       "        vertical-align: middle;\n",
       "    }\n",
       "\n",
       "    .dataframe tbody tr th {\n",
       "        vertical-align: top;\n",
       "    }\n",
       "\n",
       "    .dataframe thead th {\n",
       "        text-align: right;\n",
       "    }\n",
       "</style>\n",
       "<table border=\"1\" class=\"dataframe\">\n",
       "  <thead>\n",
       "    <tr style=\"text-align: right;\">\n",
       "      <th></th>\n",
       "      <th>Class Index</th>\n",
       "      <th>Title</th>\n",
       "      <th>Description</th>\n",
       "    </tr>\n",
       "  </thead>\n",
       "  <tbody>\n",
       "    <tr>\n",
       "      <th>0</th>\n",
       "      <td>3</td>\n",
       "      <td>Wall St. Bears Claw Back Into the Black (Reuters)</td>\n",
       "      <td>Reuters - Short-sellers, Wall Street's dwindli...</td>\n",
       "    </tr>\n",
       "    <tr>\n",
       "      <th>1</th>\n",
       "      <td>3</td>\n",
       "      <td>Carlyle Looks Toward Commercial Aerospace (Reu...</td>\n",
       "      <td>Reuters - Private investment firm Carlyle Grou...</td>\n",
       "    </tr>\n",
       "    <tr>\n",
       "      <th>2</th>\n",
       "      <td>3</td>\n",
       "      <td>Oil and Economy Cloud Stocks' Outlook (Reuters)</td>\n",
       "      <td>Reuters - Soaring crude prices plus worries\\ab...</td>\n",
       "    </tr>\n",
       "    <tr>\n",
       "      <th>3</th>\n",
       "      <td>3</td>\n",
       "      <td>Iraq Halts Oil Exports from Main Southern Pipe...</td>\n",
       "      <td>Reuters - Authorities have halted oil export\\f...</td>\n",
       "    </tr>\n",
       "    <tr>\n",
       "      <th>4</th>\n",
       "      <td>3</td>\n",
       "      <td>Oil prices soar to all-time record, posing new...</td>\n",
       "      <td>AFP - Tearaway world oil prices, toppling reco...</td>\n",
       "    </tr>\n",
       "  </tbody>\n",
       "</table>\n",
       "</div>"
      ],
      "text/plain": [
       "   Class Index                                              Title  \\\n",
       "0            3  Wall St. Bears Claw Back Into the Black (Reuters)   \n",
       "1            3  Carlyle Looks Toward Commercial Aerospace (Reu...   \n",
       "2            3    Oil and Economy Cloud Stocks' Outlook (Reuters)   \n",
       "3            3  Iraq Halts Oil Exports from Main Southern Pipe...   \n",
       "4            3  Oil prices soar to all-time record, posing new...   \n",
       "\n",
       "                                         Description  \n",
       "0  Reuters - Short-sellers, Wall Street's dwindli...  \n",
       "1  Reuters - Private investment firm Carlyle Grou...  \n",
       "2  Reuters - Soaring crude prices plus worries\\ab...  \n",
       "3  Reuters - Authorities have halted oil export\\f...  \n",
       "4  AFP - Tearaway world oil prices, toppling reco...  "
      ]
     },
     "execution_count": 2,
     "metadata": {},
     "output_type": "execute_result"
    }
   ],
   "source": [
    "df = pd.read_csv(\"./data/AG_News.csv\")\n",
    "df.shape\n",
    "df.head()"
   ]
  },
  {
   "cell_type": "code",
   "execution_count": 3,
   "metadata": {},
   "outputs": [
    {
     "data": {
      "text/plain": [
       "Class Index\n",
       "3    30000\n",
       "4    30000\n",
       "2    30000\n",
       "1    30000\n",
       "Name: count, dtype: int64"
      ]
     },
     "execution_count": 3,
     "metadata": {},
     "output_type": "execute_result"
    }
   ],
   "source": [
    "df[\"Class Index\"].value_counts()"
   ]
  },
  {
   "cell_type": "code",
   "execution_count": 4,
   "metadata": {},
   "outputs": [],
   "source": [
    "sdf = df.sample(100)"
   ]
  },
  {
   "cell_type": "code",
   "execution_count": 5,
   "metadata": {},
   "outputs": [
    {
     "data": {
      "text/plain": [
       "Class Index\n",
       "2    28\n",
       "3    26\n",
       "4    25\n",
       "1    21\n",
       "Name: count, dtype: int64"
      ]
     },
     "execution_count": 5,
     "metadata": {},
     "output_type": "execute_result"
    }
   ],
   "source": [
    "sdf[\"Class Index\"].value_counts()"
   ]
  },
  {
   "cell_type": "code",
   "execution_count": 6,
   "metadata": {},
   "outputs": [],
   "source": [
    "from typing import List\n",
    "@dataclass\n",
    "class User:\n",
    "    \n",
    "    user_name: str\n",
    "\n",
    "@dataclass\n",
    "class UserPrefer:\n",
    "    \n",
    "    user_name: str\n",
    "    prefers: List[int]\n",
    "\n",
    "\n",
    "@dataclass\n",
    "class Item:\n",
    "    \n",
    "    item_id: str\n",
    "    item_props: dict\n",
    "\n",
    "\n",
    "@dataclass\n",
    "class Action:\n",
    "    \n",
    "    action_type: str\n",
    "    action_props: dict\n",
    "\n",
    "\n",
    "@dataclass\n",
    "class UserAction:\n",
    "    \n",
    "    user: User\n",
    "    item: Item\n",
    "    action: Action\n",
    "    action_time: str"
   ]
  },
  {
   "cell_type": "code",
   "execution_count": 7,
   "metadata": {},
   "outputs": [],
   "source": [
    "u1 = User(\"u1\")\n",
    "up1 = UserPrefer(\"u1\", [1, 2])\n",
    "# sdf.iloc[1] 正好是sport（类别为2）\n",
    "i1 = Item(\"i1\", {\n",
    "    \"id\": 1, \n",
    "    \"catetory\": \"sport\",\n",
    "    \"title\": \"Swimming: Shibata Joins Japanese Gold Rush\", \n",
    "    \"description\": \"\\\n",
    "    ATHENS (Reuters) - Ai Shibata wore down French teen-ager  Laure Manaudou to win the women's 800 meters \\\n",
    "    freestyle gold  medal at the Athens Olympics Friday and provide Japan with  their first female swimming \\\n",
    "    champion in 12 years.\", \n",
    "    \"content\": \"content\"\n",
    "})\n",
    "a1 = Action(\"浏览\", {\n",
    "    \"open_time\": \"2023-04-01 12:00:00\", \n",
    "    \"leave_time\": \"2023-04-01 14:00:00\",\n",
    "    \"type\": \"close\",\n",
    "    \"duration\": \"2hour\"\n",
    "})\n",
    "ua1 = UserAction(u1, i1, a1, \"2023-04-01 12:00:00\")"
   ]
  },
  {
   "cell_type": "code",
   "execution_count": 8,
   "metadata": {},
   "outputs": [],
   "source": [
    "import os\n",
    "import zhipuai\n",
    "import sys\n",
    "os.environ['ZHIPUAI_API_KEY'] = 'b441f069335a92a7f8679736ec1be3b9.1pnH2AoIw04JHMV1'\n",
    "zhipuai.api_key = os.environ['ZHIPUAI_API_KEY']\n"
   ]
  },
  {
   "cell_type": "code",
   "execution_count": 10,
   "metadata": {},
   "outputs": [],
   "source": [
    "import numpy as np\n",
    "from sklearn.metrics.pairwise import cosine_similarity"
   ]
  },
  {
   "cell_type": "code",
   "execution_count": 12,
   "metadata": {},
   "outputs": [],
   "source": [
    "from zhipuai_embedding import ZhipuAIEmbeddings\n",
    "\n",
    "# 初始化智谱嵌入实例\n",
    "embedding = ZhipuAIEmbeddings()\n",
    "\n",
    "# 定义一个函数来获取文本的嵌入向量\n",
    "def get_zhipu_embedding(text):\n",
    "    return embedding.embed_query(text)\n",
    "\n",
    "# 使用apply函数来为DataFrame中每一行的标题和描述获取嵌入向量\n",
    "# 假设'sdf'是你的DataFrame，并且它有'Title'和'Description'这两列\n",
    "sdf[\"embedding\"] = sdf.apply(lambda x: get_zhipu_embedding(x.Title + x.Description), axis=1)\n"
   ]
  },
  {
   "cell_type": "code",
   "execution_count": 16,
   "metadata": {},
   "outputs": [],
   "source": [
    "import random\n",
    "class Recall:\n",
    "    \n",
    "    def __init__(self, df: pd.DataFrame):\n",
    "        self.data = df\n",
    "    \n",
    "    def user_prefer_recall(self, user, n):\n",
    "        up = self.get_user_prefers(user)\n",
    "        idx = random.randrange(0, len(up.prefers))\n",
    "        return self.pick_by_idx(idx, n)\n",
    "    \n",
    "    def hot_recall(self, n):\n",
    "        # 随机进行示例\n",
    "        df = self.data.sample(n)\n",
    "        return df\n",
    "    \n",
    "    def user_action_recall(self, user, n):\n",
    "        actions = self.get_user_actions(user)\n",
    "        interest = self.get_most_interested_item(actions)\n",
    "        recoms = self.recommend_by_interest(interest, n)\n",
    "        return recoms\n",
    "    \n",
    "    def get_most_interested_item(self, user_action):\n",
    "        \"\"\"\n",
    "        可以选近一段时间内用户交互时间、次数、评论（相关属性）过的Item\n",
    "        \"\"\"\n",
    "        # 就是sdf的第2行，idx为1的那条作为最喜欢（假设）\n",
    "        # 是一条游泳相关的Item\n",
    "        idx = user_action.item.item_props[\"id\"]\n",
    "        im = self.data.iloc[idx]\n",
    "        return im\n",
    "    \n",
    "    def recommend_by_interest(self, interest, n):\n",
    "        cate_id = interest[\"Class Index\"]\n",
    "        q_emb = interest[\"embedding\"]\n",
    "        # 确定类别\n",
    "        base = self.data[self.data[\"Class Index\"] == cate_id]\n",
    "        # 此处可以复用QA那一段代码，用给定embedding计算base中embedding的相似度\n",
    "        base_arr = np.array(\n",
    "            [v.embedding for v in base.itertuples()]\n",
    "        )\n",
    "        q_arr = np.expand_dims(q_emb, 0)\n",
    "        sims = cosine_similarity(base_arr, q_arr)\n",
    "        # 排除掉自己\n",
    "        idxes = sims.argsort(0).squeeze()[-(n+1):-1]\n",
    "        return base.iloc[reversed(idxes.tolist())]\n",
    "    \n",
    "    def pick_by_idx(self, category, n):\n",
    "        df = self.data[self.data[\"Class Index\"] == category]\n",
    "        return df.sample(n)\n",
    "    \n",
    "    def get_user_actions(self, user):\n",
    "        dct = {\"u1\": ua1}\n",
    "        return dct[user.user_name]\n",
    "    \n",
    "    def get_user_prefers(self, user):\n",
    "        dct = {\"u1\": up1}\n",
    "        return dct[user.user_name]\n",
    "    \n",
    "    def run(self, user):\n",
    "        ur = self.user_action_recall(user, 5)\n",
    "        if len(ur) == 0:\n",
    "            ur = self.user_prefer_recall(user, 5)\n",
    "        hr = self.hot_recall(3)\n",
    "        return pd.concat([ur, hr], axis=0)"
   ]
  },
  {
   "cell_type": "code",
   "execution_count": 17,
   "metadata": {},
   "outputs": [],
   "source": [
    "r = Recall(sdf)"
   ]
  },
  {
   "cell_type": "code",
   "execution_count": 18,
   "metadata": {},
   "outputs": [],
   "source": [
    "rd = r.run(u1)"
   ]
  },
  {
   "cell_type": "code",
   "execution_count": 19,
   "metadata": {},
   "outputs": [
    {
     "data": {
      "text/html": [
       "<div>\n",
       "<style scoped>\n",
       "    .dataframe tbody tr th:only-of-type {\n",
       "        vertical-align: middle;\n",
       "    }\n",
       "\n",
       "    .dataframe tbody tr th {\n",
       "        vertical-align: top;\n",
       "    }\n",
       "\n",
       "    .dataframe thead th {\n",
       "        text-align: right;\n",
       "    }\n",
       "</style>\n",
       "<table border=\"1\" class=\"dataframe\">\n",
       "  <thead>\n",
       "    <tr style=\"text-align: right;\">\n",
       "      <th></th>\n",
       "      <th>Class Index</th>\n",
       "      <th>Title</th>\n",
       "      <th>Description</th>\n",
       "      <th>embedding</th>\n",
       "    </tr>\n",
       "  </thead>\n",
       "  <tbody>\n",
       "    <tr>\n",
       "      <th>4107</th>\n",
       "      <td>3</td>\n",
       "      <td>Stocks Sag as Oil Marches Higher</td>\n",
       "      <td>NEW YORK (Reuters) - U.S. stocks tumbled on T...</td>\n",
       "      <td>[-0.2420201599597931, 0.10054507851600647, 0.0...</td>\n",
       "    </tr>\n",
       "    <tr>\n",
       "      <th>23777</th>\n",
       "      <td>3</td>\n",
       "      <td>Software Stocks Bounce After Oracle Ruling</td>\n",
       "      <td>Software stocks rose on Friday on speculation ...</td>\n",
       "      <td>[-0.2412630319595337, -0.045222070068120956, 0...</td>\n",
       "    </tr>\n",
       "    <tr>\n",
       "      <th>5272</th>\n",
       "      <td>3</td>\n",
       "      <td>Treasuries Edge Down as Oil Retreat</td>\n",
       "      <td>NEW YORK (Reuters) - U.S. Treasury prices edg...</td>\n",
       "      <td>[-0.3532193601131439, 0.04000478982925415, 0.0...</td>\n",
       "    </tr>\n",
       "    <tr>\n",
       "      <th>67154</th>\n",
       "      <td>3</td>\n",
       "      <td>Cingular: subscriber, revenue rise, but operat...</td>\n",
       "      <td>ATLANTA Cingular Wireless reports a rise in su...</td>\n",
       "      <td>[-0.21263732016086578, 0.18610377609729767, 0....</td>\n",
       "    </tr>\n",
       "    <tr>\n",
       "      <th>29570</th>\n",
       "      <td>3</td>\n",
       "      <td>Amex, Nasdaq in talks to move QQQ</td>\n",
       "      <td>NEW YORK (CNN/Money) - The Nasdaq 100 index tr...</td>\n",
       "      <td>[-0.21873332560062408, 0.14688748121261597, -0...</td>\n",
       "    </tr>\n",
       "    <tr>\n",
       "      <th>4869</th>\n",
       "      <td>1</td>\n",
       "      <td>Militants reportedly promise to free kidnapped...</td>\n",
       "      <td>BAGHDAD, Iraq (AP) A top aide to firebrand Shi...</td>\n",
       "      <td>[-0.40075698494911194, -0.08407636731863022, -...</td>\n",
       "    </tr>\n",
       "    <tr>\n",
       "      <th>71858</th>\n",
       "      <td>4</td>\n",
       "      <td>Red Hat Users Under Phishing Attack (NewsFactor)</td>\n",
       "      <td>NewsFactor - Red Hat (Nasdaq: RHAT), provider ...</td>\n",
       "      <td>[-0.2588844895362854, 0.11933600157499313, 0.0...</td>\n",
       "    </tr>\n",
       "    <tr>\n",
       "      <th>86129</th>\n",
       "      <td>2</td>\n",
       "      <td>Fans Calling for Tickets Get Sex Line (AP)</td>\n",
       "      <td>AP - Charlotte Bobcats fans were in for a surp...</td>\n",
       "      <td>[-0.3724042475223541, 0.2509610056877136, 0.12...</td>\n",
       "    </tr>\n",
       "  </tbody>\n",
       "</table>\n",
       "</div>"
      ],
      "text/plain": [
       "       Class Index                                              Title  \\\n",
       "4107             3                   Stocks Sag as Oil Marches Higher   \n",
       "23777            3         Software Stocks Bounce After Oracle Ruling   \n",
       "5272             3                Treasuries Edge Down as Oil Retreat   \n",
       "67154            3  Cingular: subscriber, revenue rise, but operat...   \n",
       "29570            3                  Amex, Nasdaq in talks to move QQQ   \n",
       "4869             1  Militants reportedly promise to free kidnapped...   \n",
       "71858            4   Red Hat Users Under Phishing Attack (NewsFactor)   \n",
       "86129            2         Fans Calling for Tickets Get Sex Line (AP)   \n",
       "\n",
       "                                             Description  \\\n",
       "4107    NEW YORK (Reuters) - U.S. stocks tumbled on T...   \n",
       "23777  Software stocks rose on Friday on speculation ...   \n",
       "5272    NEW YORK (Reuters) - U.S. Treasury prices edg...   \n",
       "67154  ATLANTA Cingular Wireless reports a rise in su...   \n",
       "29570  NEW YORK (CNN/Money) - The Nasdaq 100 index tr...   \n",
       "4869   BAGHDAD, Iraq (AP) A top aide to firebrand Shi...   \n",
       "71858  NewsFactor - Red Hat (Nasdaq: RHAT), provider ...   \n",
       "86129  AP - Charlotte Bobcats fans were in for a surp...   \n",
       "\n",
       "                                               embedding  \n",
       "4107   [-0.2420201599597931, 0.10054507851600647, 0.0...  \n",
       "23777  [-0.2412630319595337, -0.045222070068120956, 0...  \n",
       "5272   [-0.3532193601131439, 0.04000478982925415, 0.0...  \n",
       "67154  [-0.21263732016086578, 0.18610377609729767, 0....  \n",
       "29570  [-0.21873332560062408, 0.14688748121261597, -0...  \n",
       "4869   [-0.40075698494911194, -0.08407636731863022, -...  \n",
       "71858  [-0.2588844895362854, 0.11933600157499313, 0.0...  \n",
       "86129  [-0.3724042475223541, 0.2509610056877136, 0.12...  "
      ]
     },
     "execution_count": 19,
     "metadata": {},
     "output_type": "execute_result"
    }
   ],
   "source": [
    "rd"
   ]
  },
  {
   "cell_type": "code",
   "execution_count": null,
   "metadata": {},
   "outputs": [],
   "source": []
  }
 ],
 "metadata": {
  "kernelspec": {
   "display_name": "Python (RD)",
   "language": "python",
   "name": ".venv"
  },
  "language_info": {
   "codemirror_mode": {
    "name": "ipython",
    "version": 3
   },
   "file_extension": ".py",
   "mimetype": "text/x-python",
   "name": "python",
   "nbconvert_exporter": "python",
   "pygments_lexer": "ipython3",
   "version": "3.9.13"
  }
 },
 "nbformat": 4,
 "nbformat_minor": 2
}
